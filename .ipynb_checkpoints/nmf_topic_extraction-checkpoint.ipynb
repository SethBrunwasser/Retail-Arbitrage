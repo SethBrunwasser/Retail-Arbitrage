{
 "cells": [
  {
   "cell_type": "markdown",
   "metadata": {},
   "source": [
    "# Topics extraction with Non-Negative Matrix Factorization\n",
    "\n",
    "This is a proof of concept application of Non Negative Matrix\n",
    "Factorization of the term frequency matrix of a corpus of documents so\n",
    "as to extract an additive model of the topic structure of the corpus."
   ]
  },
  {
   "cell_type": "markdown",
   "metadata": {},
   "source": [
    "## Load the 20 newsgroups dataset"
   ]
  },
  {
   "cell_type": "code",
   "execution_count": null,
   "metadata": {},
   "outputs": [
    {
     "name": "stderr",
     "output_type": "stream",
     "text": [
      "Downloading 20news dataset. This may take a few minutes.\n",
      "Downloading dataset from https://ndownloader.figshare.com/files/5975967 (14 MB)\n"
     ]
    }
   ],
   "source": [
    "from sklearn import datasets\n",
    "dataset = datasets.fetch_20newsgroups(shuffle=True, random_state=1)\n",
    "print(dataset.target_names[dataset.target[0]])"
   ]
  },
  {
   "cell_type": "code",
   "execution_count": null,
   "metadata": {},
   "outputs": [],
   "source": [
    "print dataset.data[0]"
   ]
  },
  {
   "cell_type": "markdown",
   "metadata": {},
   "source": [
    "## Restrict the dimensions of the problem\n",
    "\n",
    "For shorter computation times."
   ]
  },
  {
   "cell_type": "code",
   "execution_count": 16,
   "metadata": {
    "collapsed": true
   },
   "outputs": [],
   "source": [
    "n_samples = 1000\n",
    "n_features = 1000"
   ]
  },
  {
   "cell_type": "markdown",
   "metadata": {},
   "source": [
    "## Vectorize to compute word frequencies for each document\n",
    "\n",
    "Restrict to the most common word frequency and use TF-IDF weighting (without top 5% stop words)"
   ]
  },
  {
   "cell_type": "code",
   "execution_count": 17,
   "metadata": {},
   "outputs": [],
   "source": [
    "from sklearn.feature_extraction import text\n",
    "\n",
    "vectorizer = text.CountVectorizer(max_df=0.95, max_features=n_features)\n",
    "counts = vectorizer.fit_transform(dataset.data[:n_samples])\n",
    "\n",
    "tfidf = text.TfidfTransformer().fit_transform(counts)\n",
    "tfidf"
   ]
  },
  {
   "cell_type": "markdown",
   "metadata": {},
   "source": [
    "Convert from a `scipy.sparse.csr_matrix` representation to a dense `numpy` array and remove negative values."
   ]
  },
  {
   "cell_type": "code",
   "execution_count": 18,
   "metadata": {},
   "outputs": [],
   "source": [
    "tfidf.toarray()"
   ]
  },
  {
   "cell_type": "markdown",
   "metadata": {},
   "source": [
    "## Extract some topics with Non-negative Matrix Factorization"
   ]
  },
  {
   "cell_type": "code",
   "execution_count": 19,
   "metadata": {
    "collapsed": true
   },
   "outputs": [],
   "source": [
    "from sklearn import decomposition\n",
    "n_topics = 5\n",
    "\n",
    "nmf = decomposition.NMF(n_components=n_topics).fit(tfidf)"
   ]
  },
  {
   "cell_type": "code",
   "execution_count": 20,
   "metadata": {},
   "outputs": [],
   "source": [
    "print nmf"
   ]
  },
  {
   "cell_type": "code",
   "execution_count": 21,
   "metadata": {},
   "outputs": [],
   "source": [
    "print nmf.components_"
   ]
  },
  {
   "cell_type": "markdown",
   "metadata": {},
   "source": [
    "## Display the most important words for each extracted topic\n",
    "\n",
    "Reuse the vocabulary of the vectorizer to find the words names from the matrix positions."
   ]
  },
  {
   "cell_type": "code",
   "execution_count": 22,
   "metadata": {},
   "outputs": [],
   "source": [
    "n_top_words = 12\n",
    "inverse_vocabulary = dict((v, k) for k, v in vectorizer.vocabulary.iteritems())\n",
    "\n",
    "for topic_idx, topic in enumerate(nmf.components_):\n",
    "    print \"Topic #%d: \" % topic_idx,\n",
    "    print \" \".join([inverse_vocabulary[i]\n",
    "                    for i in topic.argsort()[:-(n_top_words + 1):-1]])\n",
    "    print"
   ]
  },
  {
   "cell_type": "code",
   "execution_count": null,
   "metadata": {
    "collapsed": true
   },
   "outputs": [],
   "source": []
  }
 ],
 "metadata": {
  "kernelspec": {
   "display_name": "Python 3",
   "language": "python",
   "name": "python3"
  },
  "language_info": {
   "codemirror_mode": {
    "name": "ipython",
    "version": 3
   },
   "file_extension": ".py",
   "mimetype": "text/x-python",
   "name": "python",
   "nbconvert_exporter": "python",
   "pygments_lexer": "ipython3",
   "version": "3.6.1"
  }
 },
 "nbformat": 4,
 "nbformat_minor": 1
}
